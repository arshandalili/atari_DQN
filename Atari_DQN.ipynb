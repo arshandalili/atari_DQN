{
  "cells": [
    {
      "cell_type": "markdown",
      "metadata": {
        "id": "view-in-github",
        "colab_type": "text"
      },
      "source": [
        "<a href=\"https://colab.research.google.com/github/arshandalili/atari_DQN/blob/main/Atari_DQN.ipynb\" target=\"_parent\"><img src=\"https://colab.research.google.com/assets/colab-badge.svg\" alt=\"Open In Colab\"/></a>"
      ]
    },
    {
      "cell_type": "markdown",
      "metadata": {
        "id": "kHeVylkVG5yV"
      },
      "source": [
        "<div align=center>\n",
        "\t\t\n",
        "<p></p>\n",
        "<p></p>\n",
        "<font size=5>\n",
        "In the Name of God\n",
        "<font/>\n",
        "<p></p>\n",
        " <br/>\n",
        "    <br/>\n",
        "    <br/>\n",
        "<font color=#FF7500>\n",
        "Sharif University of Technology - Departmenet of Computer Engineering\n",
        "</font>\n",
        "<p></p>\n",
        "<font color=blue>\n",
        "Artifical Intelligence - Dr. Mohammad Hossein Rohban\n",
        "</font>\n",
        "<br/>\n",
        "<br/>\n",
        "Fall 2021\n",
        "\n",
        "</div>\n",
        "\n",
        "<hr/>\n",
        "\t\t<div align=center>\n",
        "\t\t    <font color=red size=6>\n",
        "\t\t\t    <br />\n",
        "Practical Assignment 5-Q2\n",
        "            \t<br/>\n",
        "\t\t\t</font>\n",
        "    <br/>\n",
        "    <br/>\n",
        "<font size=4>\n",
        "\t\t\t<br/><br/>\n",
        "Deadline:  Bahman 17th\n",
        "                <br/><b>\n",
        "              Cheating is Strongly Prohibited\n",
        "                </b><br/><br/>\n",
        "                <font color=red>\n",
        "Please run all the cells.\n",
        "     </font>\n",
        "</font>\n",
        "                <br/>\n",
        "    </div>"
      ],
      "id": "kHeVylkVG5yV"
    },
    {
      "cell_type": "markdown",
      "metadata": {
        "id": "EoEhvQeLG5yZ"
      },
      "source": [
        "# Personal Data\n"
      ],
      "id": "EoEhvQeLG5yZ"
    },
    {
      "cell_type": "code",
      "execution_count": null,
      "metadata": {
        "id": "IXIF03LIG5ya"
      },
      "outputs": [],
      "source": [
        "# Set your student number\n",
        "student_number = 98105751\n",
        "Name = 'Arshan'\n",
        "Last_Name = 'Dalili'"
      ],
      "id": "IXIF03LIG5ya"
    },
    {
      "cell_type": "markdown",
      "metadata": {
        "id": "vfKEvtANG5yb"
      },
      "source": [
        "# Rules\n",
        "- You are not allowed to use provided codes that can be found on the internet. \n",
        "- If you want to use a library which is not already imported, you must ask a question on Quera to get the permission of using that.\n",
        "- Do not hesitate to ask questions on Quera, if you have any.\n",
        "- This assignment is due Bahman 17th 23:59:59. you can use up to 1 grace day for this assignment and the hard deadline is Bahman 18th 23:59:59."
      ],
      "id": "vfKEvtANG5yb"
    },
    {
      "cell_type": "markdown",
      "metadata": {
        "id": "YNe5ZIlF7P0A"
      },
      "source": [
        "# Mastering Atari Games using Deep Reinforcement Learning\n",
        "\n",
        "In this assignment, you will learn how to implement a Deep-Q-Network (DQN), and to demonstrate that, you may implement and train a DQN and run it on an Atari game in **OpenAI-Gym** environment. Additionally, you may also want to refer to the [original paper](https://arxiv.org/pdf/1312.5602.pdf) regarding the usage of DQN in Atari networks.\n",
        "\n",
        "For this assignment, you will have two options to choose from:\n",
        "* **Breakout**: A famous Atari game that is a staple for learning deep q networks. This game is already available in the gym library environment. By solving this completely you will receive 100/100 points.\n",
        "* **Shoot-N-Dodge**: This is another Atari game that has been developed for the sole reason of this particular assignment. The game involves a spaceship with guns and a bunch of meteors coming your way! For those of you who are up for the challenge, you may run your DQN on this game and receive **extra points**. By implementing and training a network capable of solving this custom game you will receive 150/100 points with 50 points being extra.\n",
        "\n",
        "In the following, you can read the description of the games and how to start running it. We advise using either `Google-Colab` or `Kaggle` for training the model as DQN models usually take a lot of time to train.\n",
        "\n",
        "Before we start, make sure to install and import the following packages:"
      ],
      "id": "YNe5ZIlF7P0A"
    },
    {
      "cell_type": "code",
      "execution_count": null,
      "metadata": {
        "id": "winbJjqK7P0F",
        "colab": {
          "base_uri": "https://localhost:8080/"
        },
        "outputId": "e2165ce4-3b27-4c7d-c873-fc43d5653f42"
      },
      "outputs": [
        {
          "output_type": "stream",
          "name": "stdout",
          "text": [
            "Requirement already satisfied: gym in /usr/local/lib/python3.7/dist-packages (0.17.3)\n",
            "Requirement already satisfied: pyglet<=1.5.0,>=1.4.0 in /usr/local/lib/python3.7/dist-packages (from gym) (1.5.0)\n",
            "Requirement already satisfied: scipy in /usr/local/lib/python3.7/dist-packages (from gym) (1.4.1)\n",
            "Requirement already satisfied: numpy>=1.10.4 in /usr/local/lib/python3.7/dist-packages (from gym) (1.19.5)\n",
            "Requirement already satisfied: cloudpickle<1.7.0,>=1.2.0 in /usr/local/lib/python3.7/dist-packages (from gym) (1.3.0)\n",
            "Requirement already satisfied: future in /usr/local/lib/python3.7/dist-packages (from pyglet<=1.5.0,>=1.4.0->gym) (0.16.0)\n",
            "Requirement already satisfied: opencv-python in /usr/local/lib/python3.7/dist-packages (4.1.2.30)\n",
            "Requirement already satisfied: numpy>=1.14.5 in /usr/local/lib/python3.7/dist-packages (from opencv-python) (1.19.5)\n",
            "Requirement already satisfied: pillow in /usr/local/lib/python3.7/dist-packages (7.1.2)\n",
            "Requirement already satisfied: numpy in /usr/local/lib/python3.7/dist-packages (1.19.5)\n",
            "Requirement already satisfied: matplotlib in /usr/local/lib/python3.7/dist-packages (3.2.2)\n",
            "Requirement already satisfied: python-dateutil>=2.1 in /usr/local/lib/python3.7/dist-packages (from matplotlib) (2.8.2)\n",
            "Requirement already satisfied: pyparsing!=2.0.4,!=2.1.2,!=2.1.6,>=2.0.1 in /usr/local/lib/python3.7/dist-packages (from matplotlib) (3.0.7)\n",
            "Requirement already satisfied: numpy>=1.11 in /usr/local/lib/python3.7/dist-packages (from matplotlib) (1.19.5)\n",
            "Requirement already satisfied: cycler>=0.10 in /usr/local/lib/python3.7/dist-packages (from matplotlib) (0.11.0)\n",
            "Requirement already satisfied: kiwisolver>=1.0.1 in /usr/local/lib/python3.7/dist-packages (from matplotlib) (1.3.2)\n",
            "Requirement already satisfied: six>=1.5 in /usr/local/lib/python3.7/dist-packages (from python-dateutil>=2.1->matplotlib) (1.15.0)\n",
            "Requirement already satisfied: torch in /usr/local/lib/python3.7/dist-packages (1.10.0+cu111)\n",
            "Requirement already satisfied: typing-extensions in /usr/local/lib/python3.7/dist-packages (from torch) (3.10.0.2)\n",
            "Requirement already satisfied: psutil in /usr/local/lib/python3.7/dist-packages (5.4.8)\n",
            "Collecting array2gif\n",
            "  Downloading array2gif-1.0.4-py3-none-any.whl (7.8 kB)\n",
            "Requirement already satisfied: numpy in /usr/local/lib/python3.7/dist-packages (from array2gif) (1.19.5)\n",
            "Installing collected packages: array2gif\n",
            "Successfully installed array2gif-1.0.4\n"
          ]
        }
      ],
      "source": [
        "!pip install gym\n",
        "!pip install opencv-python\n",
        "!pip install pillow\n",
        "!pip install numpy\n",
        "!pip install matplotlib\n",
        "!pip install torch\n",
        "!pip install psutil\n",
        "!pip install array2gif"
      ],
      "id": "winbJjqK7P0F"
    },
    {
      "cell_type": "code",
      "execution_count": null,
      "metadata": {
        "id": "ELXGbjHI7P0G"
      },
      "outputs": [],
      "source": [
        "import gym\n",
        "import numpy as np\n",
        "import pandas as pd\n",
        "import matplotlib.pyplot as plt\n",
        "import time\n",
        "from IPython.display import clear_output\n",
        "\n",
        "import cv2\n",
        "\n",
        "%matplotlib inline"
      ],
      "id": "ELXGbjHI7P0G"
    },
    {
      "cell_type": "code",
      "execution_count": null,
      "metadata": {
        "id": "uJwEvQ727P0H",
        "colab": {
          "base_uri": "https://localhost:8080/"
        },
        "outputId": "69428628-59ed-4fbf-89a8-895ed9cf947c"
      },
      "outputs": [
        {
          "output_type": "execute_result",
          "data": {
            "text/plain": [
              "device(type='cuda')"
            ]
          },
          "metadata": {},
          "execution_count": 5
        }
      ],
      "source": [
        "# Deep Learning requirements\n",
        "### make sure to use gpu for this assignment\n",
        "import torch\n",
        "import torch.nn as nn\n",
        "device = torch.device('cuda' if torch.cuda.is_available() else 'cpu')\n",
        "device"
      ],
      "id": "uJwEvQ727P0H"
    },
    {
      "cell_type": "markdown",
      "metadata": {
        "id": "gMc_yyjs7P0I"
      },
      "source": [
        "As alluded, we will use the `gym` framework to simulate our game."
      ],
      "id": "gMc_yyjs7P0I"
    },
    {
      "cell_type": "markdown",
      "metadata": {
        "id": "GLlXnAbl7P0J"
      },
      "source": [
        "## Option 1: Breakout (60 points)\n",
        "\n",
        "The famous game [Breakout](https://en.wikipedia.org/wiki/Breakout_(video_game)) involves a paddle and bricks. It is one of the games in which DQNs have proven to work very good on. \n",
        "\n",
        "<img src=\"figs/nerd.png\" width=400 height=400 />"
      ],
      "id": "GLlXnAbl7P0J"
    },
    {
      "cell_type": "code",
      "execution_count": null,
      "metadata": {
        "id": "8JLZNfp_7P0J"
      },
      "outputs": [],
      "source": [
        "# Run this block if you intend to implement the breakout option\n",
        "\n",
        "ENV_NAME = \"BreakoutNoFrameskip-v4\""
      ],
      "id": "8JLZNfp_7P0J"
    },
    {
      "cell_type": "markdown",
      "metadata": {
        "id": "nRlc9Ipw7P0K"
      },
      "source": [
        "## Option 2: Shoot-N-Dodge (60+30 points)"
      ],
      "id": "nRlc9Ipw7P0K"
    },
    {
      "cell_type": "markdown",
      "metadata": {
        "id": "CsbUqRts7P0L"
      },
      "source": [
        "In this game you control a space ship that shoots bullets. At each frame, you may either move up, down, or stay still. Every once in a while some meteors colored in red show up at random at the other end of the screen and you should avoid or destroy them. If either one of these meteors hits you, you will die!\n",
        "\n",
        "To destroy the meteors, you have to shoot them three times and each time you shoot them their color changes until they disappear. They change color from red to orange to yellow and then they are gone.\n",
        "\n",
        "<img src=\"figs/shoot-n-dodge.jpg\" width=430 height=420 />"
      ],
      "id": "CsbUqRts7P0L"
    },
    {
      "cell_type": "code",
      "execution_count": null,
      "metadata": {
        "id": "s7paZAHx7P0M"
      },
      "outputs": [],
      "source": [
        "# Run this block if you intend to implement the ShootNDodge option\n",
        "\n",
        "ENV_NAME = 'shootndodge-v0'"
      ],
      "id": "s7paZAHx7P0M"
    },
    {
      "cell_type": "markdown",
      "metadata": {
        "id": "buHslJTV7P0M"
      },
      "source": [
        "\n",
        "### Installing the game\n"
      ],
      "id": "buHslJTV7P0M"
    },
    {
      "cell_type": "markdown",
      "metadata": {
        "id": "5xrJQS088bl3"
      },
      "source": [
        "#### Breakout\n",
        "\n",
        "In order to install Breakout on your environment, please execute the following code. "
      ],
      "id": "5xrJQS088bl3"
    },
    {
      "cell_type": "code",
      "execution_count": null,
      "metadata": {
        "id": "hoFI0ljP8pJU",
        "colab": {
          "base_uri": "https://localhost:8080/"
        },
        "outputId": "9a1a3588-f8a1-44fa-fac6-63b8bbcb160d"
      },
      "outputs": [
        {
          "output_type": "stream",
          "name": "stdout",
          "text": [
            "Collecting stable-baselines3[extra]\n",
            "  Downloading stable_baselines3-1.4.0-py3-none-any.whl (176 kB)\n",
            "\u001b[?25l\r\u001b[K     |█▉                              | 10 kB 19.1 MB/s eta 0:00:01\r\u001b[K     |███▊                            | 20 kB 18.8 MB/s eta 0:00:01\r\u001b[K     |█████▋                          | 30 kB 11.8 MB/s eta 0:00:01\r\u001b[K     |███████▍                        | 40 kB 10.1 MB/s eta 0:00:01\r\u001b[K     |█████████▎                      | 51 kB 5.7 MB/s eta 0:00:01\r\u001b[K     |███████████▏                    | 61 kB 6.1 MB/s eta 0:00:01\r\u001b[K     |█████████████                   | 71 kB 6.0 MB/s eta 0:00:01\r\u001b[K     |██████████████▉                 | 81 kB 6.6 MB/s eta 0:00:01\r\u001b[K     |████████████████▊               | 92 kB 5.1 MB/s eta 0:00:01\r\u001b[K     |██████████████████▌             | 102 kB 5.6 MB/s eta 0:00:01\r\u001b[K     |████████████████████▍           | 112 kB 5.6 MB/s eta 0:00:01\r\u001b[K     |██████████████████████▎         | 122 kB 5.6 MB/s eta 0:00:01\r\u001b[K     |████████████████████████        | 133 kB 5.6 MB/s eta 0:00:01\r\u001b[K     |██████████████████████████      | 143 kB 5.6 MB/s eta 0:00:01\r\u001b[K     |███████████████████████████▉    | 153 kB 5.6 MB/s eta 0:00:01\r\u001b[K     |█████████████████████████████▋  | 163 kB 5.6 MB/s eta 0:00:01\r\u001b[K     |███████████████████████████████▌| 174 kB 5.6 MB/s eta 0:00:01\r\u001b[K     |████████████████████████████████| 176 kB 5.6 MB/s \n",
            "\u001b[?25hCollecting pyvirtualdisplay\n",
            "  Downloading PyVirtualDisplay-2.2-py3-none-any.whl (15 kB)\n",
            "Requirement already satisfied: gym[atari] in /usr/local/lib/python3.7/dist-packages (0.17.3)\n",
            "Requirement already satisfied: pyglet in /usr/local/lib/python3.7/dist-packages (1.5.0)\n",
            "Collecting EasyProcess\n",
            "  Downloading EasyProcess-1.1-py3-none-any.whl (8.7 kB)\n",
            "Requirement already satisfied: future in /usr/local/lib/python3.7/dist-packages (from pyglet) (0.16.0)\n",
            "Requirement already satisfied: cloudpickle<1.7.0,>=1.2.0 in /usr/local/lib/python3.7/dist-packages (from gym[atari]) (1.3.0)\n",
            "Requirement already satisfied: numpy>=1.10.4 in /usr/local/lib/python3.7/dist-packages (from gym[atari]) (1.19.5)\n",
            "Requirement already satisfied: scipy in /usr/local/lib/python3.7/dist-packages (from gym[atari]) (1.4.1)\n",
            "Requirement already satisfied: opencv-python in /usr/local/lib/python3.7/dist-packages (from gym[atari]) (4.1.2.30)\n",
            "Requirement already satisfied: atari-py~=0.2.0 in /usr/local/lib/python3.7/dist-packages (from gym[atari]) (0.2.9)\n",
            "Requirement already satisfied: Pillow in /usr/local/lib/python3.7/dist-packages (from gym[atari]) (7.1.2)\n",
            "Requirement already satisfied: six in /usr/local/lib/python3.7/dist-packages (from atari-py~=0.2.0->gym[atari]) (1.15.0)\n",
            "Requirement already satisfied: matplotlib in /usr/local/lib/python3.7/dist-packages (from stable-baselines3[extra]) (3.2.2)\n",
            "Requirement already satisfied: torch>=1.8.1 in /usr/local/lib/python3.7/dist-packages (from stable-baselines3[extra]) (1.10.0+cu111)\n",
            "Requirement already satisfied: pandas in /usr/local/lib/python3.7/dist-packages (from stable-baselines3[extra]) (1.3.5)\n",
            "Requirement already satisfied: psutil in /usr/local/lib/python3.7/dist-packages (from stable-baselines3[extra]) (5.4.8)\n",
            "Requirement already satisfied: tensorboard>=2.2.0 in /usr/local/lib/python3.7/dist-packages (from stable-baselines3[extra]) (2.7.0)\n",
            "Collecting atari-py~=0.2.0\n",
            "  Downloading atari_py-0.2.6-cp37-cp37m-manylinux1_x86_64.whl (2.8 MB)\n",
            "\u001b[K     |████████████████████████████████| 2.8 MB 45.6 MB/s \n",
            "\u001b[?25hRequirement already satisfied: requests<3,>=2.21.0 in /usr/local/lib/python3.7/dist-packages (from tensorboard>=2.2.0->stable-baselines3[extra]) (2.23.0)\n",
            "Requirement already satisfied: setuptools>=41.0.0 in /usr/local/lib/python3.7/dist-packages (from tensorboard>=2.2.0->stable-baselines3[extra]) (57.4.0)\n",
            "Requirement already satisfied: google-auth-oauthlib<0.5,>=0.4.1 in /usr/local/lib/python3.7/dist-packages (from tensorboard>=2.2.0->stable-baselines3[extra]) (0.4.6)\n",
            "Requirement already satisfied: tensorboard-data-server<0.7.0,>=0.6.0 in /usr/local/lib/python3.7/dist-packages (from tensorboard>=2.2.0->stable-baselines3[extra]) (0.6.1)\n",
            "Requirement already satisfied: absl-py>=0.4 in /usr/local/lib/python3.7/dist-packages (from tensorboard>=2.2.0->stable-baselines3[extra]) (1.0.0)\n",
            "Requirement already satisfied: grpcio>=1.24.3 in /usr/local/lib/python3.7/dist-packages (from tensorboard>=2.2.0->stable-baselines3[extra]) (1.43.0)\n",
            "Requirement already satisfied: protobuf>=3.6.0 in /usr/local/lib/python3.7/dist-packages (from tensorboard>=2.2.0->stable-baselines3[extra]) (3.17.3)\n",
            "Requirement already satisfied: tensorboard-plugin-wit>=1.6.0 in /usr/local/lib/python3.7/dist-packages (from tensorboard>=2.2.0->stable-baselines3[extra]) (1.8.1)\n",
            "Requirement already satisfied: google-auth<3,>=1.6.3 in /usr/local/lib/python3.7/dist-packages (from tensorboard>=2.2.0->stable-baselines3[extra]) (1.35.0)\n",
            "Requirement already satisfied: werkzeug>=0.11.15 in /usr/local/lib/python3.7/dist-packages (from tensorboard>=2.2.0->stable-baselines3[extra]) (1.0.1)\n",
            "Requirement already satisfied: wheel>=0.26 in /usr/local/lib/python3.7/dist-packages (from tensorboard>=2.2.0->stable-baselines3[extra]) (0.37.1)\n",
            "Requirement already satisfied: markdown>=2.6.8 in /usr/local/lib/python3.7/dist-packages (from tensorboard>=2.2.0->stable-baselines3[extra]) (3.3.6)\n",
            "Requirement already satisfied: pyasn1-modules>=0.2.1 in /usr/local/lib/python3.7/dist-packages (from google-auth<3,>=1.6.3->tensorboard>=2.2.0->stable-baselines3[extra]) (0.2.8)\n",
            "Requirement already satisfied: cachetools<5.0,>=2.0.0 in /usr/local/lib/python3.7/dist-packages (from google-auth<3,>=1.6.3->tensorboard>=2.2.0->stable-baselines3[extra]) (4.2.4)\n",
            "Requirement already satisfied: rsa<5,>=3.1.4 in /usr/local/lib/python3.7/dist-packages (from google-auth<3,>=1.6.3->tensorboard>=2.2.0->stable-baselines3[extra]) (4.8)\n",
            "Requirement already satisfied: requests-oauthlib>=0.7.0 in /usr/local/lib/python3.7/dist-packages (from google-auth-oauthlib<0.5,>=0.4.1->tensorboard>=2.2.0->stable-baselines3[extra]) (1.3.1)\n",
            "Requirement already satisfied: importlib-metadata>=4.4 in /usr/local/lib/python3.7/dist-packages (from markdown>=2.6.8->tensorboard>=2.2.0->stable-baselines3[extra]) (4.10.1)\n",
            "Requirement already satisfied: zipp>=0.5 in /usr/local/lib/python3.7/dist-packages (from importlib-metadata>=4.4->markdown>=2.6.8->tensorboard>=2.2.0->stable-baselines3[extra]) (3.7.0)\n",
            "Requirement already satisfied: typing-extensions>=3.6.4 in /usr/local/lib/python3.7/dist-packages (from importlib-metadata>=4.4->markdown>=2.6.8->tensorboard>=2.2.0->stable-baselines3[extra]) (3.10.0.2)\n",
            "Requirement already satisfied: pyasn1<0.5.0,>=0.4.6 in /usr/local/lib/python3.7/dist-packages (from pyasn1-modules>=0.2.1->google-auth<3,>=1.6.3->tensorboard>=2.2.0->stable-baselines3[extra]) (0.4.8)\n",
            "Requirement already satisfied: chardet<4,>=3.0.2 in /usr/local/lib/python3.7/dist-packages (from requests<3,>=2.21.0->tensorboard>=2.2.0->stable-baselines3[extra]) (3.0.4)\n",
            "Requirement already satisfied: idna<3,>=2.5 in /usr/local/lib/python3.7/dist-packages (from requests<3,>=2.21.0->tensorboard>=2.2.0->stable-baselines3[extra]) (2.10)\n",
            "Requirement already satisfied: certifi>=2017.4.17 in /usr/local/lib/python3.7/dist-packages (from requests<3,>=2.21.0->tensorboard>=2.2.0->stable-baselines3[extra]) (2021.10.8)\n",
            "Requirement already satisfied: urllib3!=1.25.0,!=1.25.1,<1.26,>=1.21.1 in /usr/local/lib/python3.7/dist-packages (from requests<3,>=2.21.0->tensorboard>=2.2.0->stable-baselines3[extra]) (1.24.3)\n",
            "Requirement already satisfied: oauthlib>=3.0.0 in /usr/local/lib/python3.7/dist-packages (from requests-oauthlib>=0.7.0->google-auth-oauthlib<0.5,>=0.4.1->tensorboard>=2.2.0->stable-baselines3[extra]) (3.2.0)\n",
            "Requirement already satisfied: python-dateutil>=2.1 in /usr/local/lib/python3.7/dist-packages (from matplotlib->stable-baselines3[extra]) (2.8.2)\n",
            "Requirement already satisfied: cycler>=0.10 in /usr/local/lib/python3.7/dist-packages (from matplotlib->stable-baselines3[extra]) (0.11.0)\n",
            "Requirement already satisfied: pyparsing!=2.0.4,!=2.1.2,!=2.1.6,>=2.0.1 in /usr/local/lib/python3.7/dist-packages (from matplotlib->stable-baselines3[extra]) (3.0.7)\n",
            "Requirement already satisfied: kiwisolver>=1.0.1 in /usr/local/lib/python3.7/dist-packages (from matplotlib->stable-baselines3[extra]) (1.3.2)\n",
            "Requirement already satisfied: pytz>=2017.3 in /usr/local/lib/python3.7/dist-packages (from pandas->stable-baselines3[extra]) (2018.9)\n",
            "\u001b[33mWARNING: The candidate selected for download or install is a yanked version: 'atari-py' candidate (version 0.2.6 at https://files.pythonhosted.org/packages/8f/ba/1d22e9d2f332f07aaa57041f5dd569c2cb40a92bd6374a0b743ec3dfae97/atari_py-0.2.6-cp37-cp37m-manylinux1_x86_64.whl#sha256=d9e2c25d39783867c2f29d1dd9d3a659fc56036456d07dc9efe8bd7bb31a07d7 (from https://pypi.org/simple/atari-py/))\n",
            "Reason for being yanked: re-release with new wheels\u001b[0m\n",
            "Installing collected packages: stable-baselines3, EasyProcess, atari-py, pyvirtualdisplay\n",
            "  Attempting uninstall: atari-py\n",
            "    Found existing installation: atari-py 0.2.9\n",
            "    Uninstalling atari-py-0.2.9:\n",
            "      Successfully uninstalled atari-py-0.2.9\n",
            "Successfully installed EasyProcess-1.1 atari-py-0.2.6 pyvirtualdisplay-2.2 stable-baselines3-1.4.0\n",
            "Requirement already satisfied: atari-py in /usr/local/lib/python3.7/dist-packages (0.2.6)\n",
            "Requirement already satisfied: numpy in /usr/local/lib/python3.7/dist-packages (from atari-py) (1.19.5)\n",
            "Requirement already satisfied: six in /usr/local/lib/python3.7/dist-packages (from atari-py) (1.15.0)\n",
            "/usr/bin/python3: No module named atari_py.import_roms\n"
          ]
        }
      ],
      "source": [
        "!pip install stable-baselines3[extra] pyvirtualdisplay gym[atari] pyglet \n",
        "!apt-get install python-opengl -y\n",
        "!pip install atari-py\n",
        "!apt-get install unrar\n",
        "\n",
        "!wget http://www.atarimania.com/roms/Roms.rar\n",
        "!unrar x Roms.rar\n",
        "!unzip ROMS.zip\n",
        "!python -m atari_py.import_roms ROMS"
      ],
      "id": "hoFI0ljP8pJU"
    },
    {
      "cell_type": "markdown",
      "metadata": {
        "id": "U9lKz0ZJ8VfZ"
      },
      "source": [
        "#### Shoot N Dodge\n",
        "The game is provided as a python package and can be run as an **OpenAI-Gym** environment. To do so, you will have to go to the setup folder and install the package on your python virtual environment."
      ],
      "id": "U9lKz0ZJ8VfZ"
    },
    {
      "cell_type": "code",
      "execution_count": null,
      "metadata": {
        "id": "CgHMxBeK7P0N"
      },
      "outputs": [],
      "source": [
        "# NOTE:\n",
        "# .... You should be at the root directory of the repository in order to run this\n",
        "\n",
        "!pip install -e gym-shootndodge/.\n",
        "\n",
        "# ------------------------------------------------------------------------------------\n",
        "\n",
        "# Install from git address (useful for Google Colab)\n",
        "\n",
        "# !pip install -e git+https://github.com/sut-ai/F2021-P5/tree/master/practical/questions/gym-shootndodge/."
      ],
      "id": "CgHMxBeK7P0N"
    },
    {
      "cell_type": "markdown",
      "metadata": {
        "id": "pLvrWLIa7P0N"
      },
      "source": [
        "## Seeing the game\n",
        "\n",
        "Without further ado, we shall start see how your game works. To do so, run the code below:"
      ],
      "id": "pLvrWLIa7P0N"
    },
    {
      "cell_type": "code",
      "execution_count": null,
      "metadata": {
        "id": "t5MxmgqZ7P0N",
        "colab": {
          "base_uri": "https://localhost:8080/",
          "height": 269
        },
        "outputId": "8cf7671c-330f-4b8f-8f84-563ec448576f"
      },
      "outputs": [
        {
          "output_type": "display_data",
          "data": {
            "image/png": "[encoded data removed]",
            "text/plain": [
              "<Figure size 432x288 with 1 Axes>"
            ]
          },
          "metadata": {
            "needs_background": "light"
          }
        }
      ],
      "source": [
        "env = gym.make(ENV_NAME)\n",
        "obs = env.reset()\n",
        "plt.imshow(env.render(mode='rgb_array'), aspect='auto')\n",
        "plt.show()"
      ],
      "id": "t5MxmgqZ7P0N"
    },
    {
      "cell_type": "markdown",
      "metadata": {
        "id": "FVtB7Wnq7P0O"
      },
      "source": [
        "Run the game in multiple frames to see what it looks like:"
      ],
      "id": "FVtB7Wnq7P0O"
    },
    {
      "cell_type": "code",
      "execution_count": null,
      "metadata": {
        "id": "Kz_TZoHC7P0O",
        "colab": {
          "base_uri": "https://localhost:8080/",
          "height": 269
        },
        "outputId": "de8c4863-6957-42c5-ad80-80df1a0e21c4"
      },
      "outputs": [
        {
          "output_type": "display_data",
          "data": {
            "image/png": "[encoded data removed]",
            "text/plain": [
              "<Figure size 432x288 with 1 Axes>"
            ]
          },
          "metadata": {
            "needs_background": "light"
          }
        }
      ],
      "source": [
        "env = gym.make(ENV_NAME)\n",
        "env.seed(2022)\n",
        "obs = env.reset()\n",
        "\n",
        "a = env.action_space.sample()\n",
        "for i in range(5000):\n",
        "    if (i + 1) % 40 == 0:\n",
        "        a = env.action_space.sample()\n",
        "    observation, reward, done, info = env.step(a)\n",
        "    if (i + 1) % 5 == 0:\n",
        "        clear_output(True)\n",
        "        screen = env.render(mode='rgb_array')\n",
        "        plt.imshow(screen, aspect='auto')\n",
        "        plt.show()\n",
        "    if done:\n",
        "        break"
      ],
      "id": "Kz_TZoHC7P0O"
    },
    {
      "cell_type": "markdown",
      "metadata": {
        "id": "sJ0SaqnH7P0P"
      },
      "source": [
        "Feel free to hard code any policies before moving on to the next steps."
      ],
      "id": "sJ0SaqnH7P0P"
    },
    {
      "cell_type": "markdown",
      "metadata": {
        "id": "cn2t6tvE7P0P"
      },
      "source": [
        "## Environment Wrappers\n",
        "\n",
        "In this section, we will do some preprocessings on the environment. Basically our work consists of wrapping our environment around three wrappers. You should implement each of these wrappers in the `src/wrappers.py` file provided to you in the assignment folder. \n",
        "* Reducing image input size: The Atari game given as input has high resolution which is definitely not needed for the model and it can learn efficiently without all of the additional data. These additional pixels create overhead. We can thus save a lot of time by preprocessing game image, including:\n",
        "    - Resizing to a smaller shape, (84 x 84 recommended for the Breakout and 50 x 50 recommended for ShootNDodge)\n",
        "    - Converting to grayscale (Not recommended for ShootNDodge)\n",
        "    - Cropping irrelevant image parts (top, bottom and edges)\n",
        "    - Also please keep one dimension for channel even if the image is grayscale so that final shape would be (H x W x C)\n",
        "* Reward clipping: There might be the case that many of the RL problems have unstable rewards. In case the rewards are not continuous with respect to the state space, then the local optimization methods used for learning the network will fall short. To address this issue we create a wrapper around our original environment - Note that this is not a necessity and in case you feel comfortable with the rewards given in the original environment, then your wrapper should simply return the previous values as if nothing has heppened! Feel free to accumulate more knowledge about reward clipping where we reduce the range of the rewards to [-1, 1]. In case you observe increasing gradient norms in the learning process, then it would be good to consider this method.\n",
        "* Remove Blinking: Since we resize the image, we might come accross blinking whereas in one frame a certain thing is visible, but at the split-frame afterward, it fades and then returns again. To remove this issue we introduce a `MaxAndSkipEnv` in which we skip one frame and each frame's intensity will be equal to the maximum of the previous frame and itself. A preliminary code is implemented in the `wrappers.py` file.\n",
        "* Episodic life: In case of *Breakout* losing takes 5 lives. To increase the chance of the model learning, we may end the game whenever one single life is lost.\n",
        "* Starting the game: In case of *Breakout* one should take a particular action to start the game. For example, they might need to press the `space` key in order for the game to start rolling. A wrapper is implemented to forcefully enter the game start action in the beginning. Indeed, in case this wrapper is not implemented, the agent can learn to take that action to gain higher reward; however, this will make the training time even longer."
      ],
      "id": "cn2t6tvE7P0P"
    },
    {
      "cell_type": "markdown",
      "metadata": {
        "id": "XsVw-QIQ7P0P"
      },
      "source": [
        "After implementing or checking the wrappers in `src/wrappers.py` we can culminate all of the wrappers in the following class. A baseline is implemented for this wrapper but feel free to change it at will."
      ],
      "id": "XsVw-QIQ7P0P"
    },
    {
      "cell_type": "code",
      "execution_count": null,
      "metadata": {
        "id": "XzQozx-37P0P"
      },
      "outputs": [],
      "source": [
        "from src.wrappers import PreprocessAtariObs, MaxAndSkipEnv, EpisodicLifeEnv, FireResetEnv, ClipRewardEnv, PreprocessAtariObs\n",
        "\n",
        "def PrimaryAtariWrap(env, game, clip_rewards=True):\n",
        "    \n",
        "    name = env.unwrapped.spec.id\n",
        "    \n",
        "    # This wrapper holds the same action for <skip> frames and outputs\n",
        "    # the maximal pixel value of 2 last frames (to handle blinking\n",
        "    # in some envs)\n",
        "    env = MaxAndSkipEnv(env, skip=4)\n",
        "\n",
        "    # This wrapper sends done=True when each life is lost\n",
        "    # (not all the 5 lives that are givern by the game rules).\n",
        "    # It should make easier for the agent to understand that losing is bad.\n",
        "    if name == \"BreakoutNoFrameskip-v4\":\n",
        "        env = EpisodicLifeEnv(env)\n",
        "\n",
        "    # This wrapper laucnhes the ball when an episode starts.\n",
        "    # Without it the agent has to learn this action, too.\n",
        "    # Actually it can but learning would take longer.\n",
        "    if name == \"BreakoutNoFrameskip-v4\":\n",
        "        env = FireResetEnv(env)\n",
        "\n",
        "    # This wrapper squeezes the rewards to range [-1, 1]\n",
        "    if clip_rewards:\n",
        "        env = ClipRewardEnv(env)\n",
        "\n",
        "    # This wrapper is yours :)\n",
        "    env = PreprocessAtariObs(env)\n",
        "    return env"
      ],
      "id": "XzQozx-37P0P"
    },
    {
      "cell_type": "markdown",
      "metadata": {
        "id": "GzIsXuz17P0P"
      },
      "source": [
        "\n",
        "## Frame Buffer\n",
        "\n",
        "It is reasonable to assume that only one frame of the game does not hold information about the game dynamics. Hence, each observation should in fact contain multiple frames. There is a rule of thumb in these Atari games to consider buffering the last 4 frames of the game. In that case, each observation will be of form (H x W x C*F) where F represents the number of frames saved.\n",
        "\n",
        "To implement this, you may check the `src/framebuffer.py` file or change/implement your own frame buffer. With all of that done, we can run the following function to have an environment that has rich observations and reasonable rewards that provide the features necessary to train our DQN model.\n"
      ],
      "id": "GzIsXuz17P0P"
    },
    {
      "cell_type": "code",
      "execution_count": null,
      "metadata": {
        "id": "D98dnlhk7P0Q"
      },
      "outputs": [],
      "source": [
        "from src.framebuffer import FrameBuffer\n",
        "\n",
        "def make_env(clip_rewards=False, seed=None):\n",
        "    env = gym.make(ENV_NAME)  # create raw env\n",
        "    if seed is not None:\n",
        "        env.seed(seed)\n",
        "    env = PrimaryAtariWrap(env, clip_rewards)\n",
        "    env = FrameBuffer(env, n_frames=4)\n",
        "    return env\n",
        "\n",
        "env = make_env(clip_rewards=False, seed=2022)\n",
        "env.reset()\n",
        "n_actions = env.action_space.n\n",
        "state_shape = env.observation_space.shape"
      ],
      "id": "D98dnlhk7P0Q"
    },
    {
      "cell_type": "markdown",
      "metadata": {
        "id": "UIRsEQJf7P0Q"
      },
      "source": [
        "### The DQN architecture\n",
        "\n",
        "We now need to build a neural network that can map images to state q-values. This network will be called on every agent's step so it better not be resnet-152 unless you have an array of GPUs. Instead, you can use strided convolutions with a small number of features to save time and memory.\n",
        "\n",
        "You can build any architecture you want, but for reference, here's something that will more or less work:\n",
        "\n",
        "<img src=\"figs/dqn_arch.png\" width=400 height=400/>\n",
        "\n",
        "**IMPORTANT NOTE!** The pytorch library takes inputs as tensors of size `[batch_size, channel_size, h, w]`; however, for visualization reasons, we have used numpy arrays of size `[h, w, channel_size]` up until now! Make sure to do the needed transformation before giving it convolutional layers."
      ],
      "id": "UIRsEQJf7P0Q"
    },
    {
      "cell_type": "code",
      "execution_count": null,
      "metadata": {
        "id": "YDnnITS37P0Q"
      },
      "outputs": [],
      "source": [
        "class DQNAgent(nn.Module):\n",
        "    def __init__(self, env, epsilon=0):\n",
        "\n",
        "        super().__init__()\n",
        "        self.epsilon = epsilon\n",
        "        self.state_shape = (env.observation_space.shape[2],\n",
        "                            env.observation_space.shape[0],\n",
        "                            env.observation_space.shape[1])\n",
        "        self.n_actions = env.action_space.n\n",
        "\n",
        "        # TODO\n",
        "        # Define your network body here. Please make sure agent is fully contained here\n",
        "        # nn.Flatten() can be useful\n",
        "        self.flatten = nn.Flatten()\n",
        "        self.enc_conv = nn.Sequential(\n",
        "            nn.Conv2d(84, 32, 3, stride=2),\n",
        "            nn.ReLU(),\n",
        "            nn.Conv2d(32, 64, 3, stride=2),\n",
        "            nn.ReLU()\n",
        "        )\n",
        "\n",
        "        self.enc_lin = nn.Sequential(\n",
        "            nn.Linear(2560, 256),\n",
        "            nn.ReLU(),\n",
        "            nn.Linear(256, self.n_actions)\n",
        "        )\n",
        "\n",
        "        \n",
        "\n",
        "    def forward(self, state_t):\n",
        "        \"\"\"\n",
        "        takes agent's observation (tensor), returns qvalues (tensor)\n",
        "        :param state_t: a batch of 4-frame buffers, shape = [batch_size, h, w, 4 * c]\n",
        "        \"\"\"\n",
        "        # TODO\n",
        "        # Use your network to compute qvalues for given state\n",
        "        qvalues = self.enc_conv(state_t)\n",
        "        qvalues = self.flatten(qvalues)\n",
        "        qvalues = self.enc_lin(qvalues)\n",
        "        assert qvalues.requires_grad, \"qvalues must be a torch tensor with grad\"\n",
        "        assert len(\n",
        "            qvalues.shape) == 2 and qvalues.shape[0] == state_t.shape[0] and qvalues.shape[1] == self.n_actions\n",
        "\n",
        "        return qvalues\n",
        "\n",
        "    def get_qvalues(self, states):\n",
        "        \"\"\"\n",
        "        like forward, but works on numpy arrays, not tensors\n",
        "        \"\"\"\n",
        "        model_device = next(self.parameters()).device\n",
        "        states = torch.tensor(states, device=model_device, dtype=torch.float)\n",
        "        qvalues = self.forward(states)\n",
        "        return qvalues.data.cpu().numpy()\n",
        "\n",
        "    def sample_actions(self, qvalues):\n",
        "        \"\"\"pick actions given qvalues. Uses epsilon-greedy exploration strategy. \"\"\"\n",
        "        epsilon = self.epsilon\n",
        "        batch_size, n_actions = qvalues.shape\n",
        "\n",
        "        random_actions = np.random.choice(n_actions, size=batch_size)\n",
        "        best_actions = qvalues.argmax(axis=-1)\n",
        "\n",
        "        should_explore = np.random.choice(\n",
        "            [0, 1], batch_size, p=[1-epsilon, epsilon])\n",
        "        return np.where(should_explore, random_actions, best_actions)"
      ],
      "id": "YDnnITS37P0Q"
    },
    {
      "cell_type": "markdown",
      "metadata": {
        "id": "U9GOAJEC7P0R"
      },
      "source": [
        "Run the agent to see if it encounters any errors:"
      ],
      "id": "U9GOAJEC7P0R"
    },
    {
      "cell_type": "code",
      "execution_count": null,
      "metadata": {
        "id": "7fgV1b9D7P0R"
      },
      "outputs": [],
      "source": [
        "def evaluate(env, agent, n_games=1, greedy=False, t_max=10000, visualize=False):\n",
        "    \"\"\" Plays n_games full games. If greedy, picks actions as argmax(qvalues). Returns mean reward. \"\"\"\n",
        "    rewards = []\n",
        "    for i in range(n_games):\n",
        "    # TODO: your code here!\n",
        "      total_reward = 0\n",
        "      state = env.reset()\n",
        "      for t in range(t_max):\n",
        "        qvalues = agent.get_qvalues(torch.tensor([state], dtype=torch.float32))\n",
        "        if greedy:\n",
        "          action = np.argmax(qvalues)\n",
        "        else:\n",
        "          action = agent.sample_actions(qvalues)[0]\n",
        "        next_state, reward, done, info = env.step(action)\n",
        "        total_reward += reward\n",
        "        state = next_state\n",
        "        if done:\n",
        "          break\n",
        "      rewards.append(total_reward)\n",
        "\n",
        "\n",
        "    return np.mean(rewards)"
      ],
      "id": "7fgV1b9D7P0R"
    },
    {
      "cell_type": "code",
      "execution_count": null,
      "metadata": {
        "id": "RkRRXwGP7P0R",
        "colab": {
          "base_uri": "https://localhost:8080/"
        },
        "outputId": "c0e354c2-a7db-4745-ac61-3f317ab71cb3"
      },
      "outputs": [
        {
          "output_type": "stream",
          "name": "stderr",
          "text": [
            "/usr/local/lib/python3.7/dist-packages/ipykernel_launcher.py:51: UserWarning: To copy construct from a tensor, it is recommended to use sourceTensor.clone().detach() or sourceTensor.clone().detach().requires_grad_(True), rather than torch.tensor(sourceTensor).\n"
          ]
        },
        {
          "output_type": "execute_result",
          "data": {
            "text/plain": [
              "1.0"
            ]
          },
          "metadata": {},
          "execution_count": 20
        }
      ],
      "source": [
        "# Run the code below to see if the network can run a policy\n",
        "agent = DQNAgent(env).to(device)\n",
        "evaluate(env, agent, n_games=15)"
      ],
      "id": "RkRRXwGP7P0R"
    },
    {
      "cell_type": "markdown",
      "metadata": {
        "id": "KIm-JEbU7P0S"
      },
      "source": [
        "### Experience Replay\n",
        "\n",
        "The common practice in DQN literature consists of using an experience replay buffer in which tuples of form $(s, a, r, s')$ are stored. In each epoch, a random batch of this buffer will be given to the network for training. \n",
        "\n",
        "In this section, we will implement this buffer; the interface is fairly simple:\n",
        "* `exp_replay.add(obs, act, rw, next_obs, done)` - saves (s,a,r,s',done) tuple into the buffer\n",
        "* `exp_replay.sample(batch_size)` - returns observations, actions, rewards, next_observations and is_done for batch_size random samples.\n",
        "* `len(exp_replay)` - returns number of elements stored in replay buffer."
      ],
      "id": "KIm-JEbU7P0S"
    },
    {
      "cell_type": "code",
      "execution_count": null,
      "metadata": {
        "id": "8ohtlDYG7P0S"
      },
      "outputs": [],
      "source": [
        "# This code is shamelessly stolen from\n",
        "# https://github.com/openai/baselines/blob/master/baselines/deepq/replay_buffer.py\n",
        "import numpy as np\n",
        "import random\n",
        "\n",
        "\n",
        "class ReplayBuffer:\n",
        "    def __init__(self, size):\n",
        "        \"\"\"Create Replay buffer.\n",
        "        Parameters\n",
        "        ----------\n",
        "        size: int\n",
        "            Max number of transitions to store in the buffer. When the buffer\n",
        "            overflows the old memories are dropped.\n",
        "        \"\"\"\n",
        "        self._storage = []\n",
        "        self._maxsize = size\n",
        "        self._next_idx = 0\n",
        "\n",
        "    def __len__(self):\n",
        "        return len(self._storage)\n",
        "\n",
        "    def add(self, obs_t, action, reward, obs_tp1, done):\n",
        "        # fill the data cyclically, if the list is not yet complete append it\n",
        "        data = (obs_t, action, reward, obs_tp1, done)\n",
        "\n",
        "        if self._next_idx >= len(self._storage):\n",
        "            self._storage.append(data)\n",
        "        else:\n",
        "            self._storage[self._next_idx] = data\n",
        "        self._next_idx = (self._next_idx + 1) % self._maxsize\n",
        "\n",
        "    def _encode_sample(self, idxes):\n",
        "        obses_t, actions, rewards, obses_tp1, dones = [], [], [], [], []\n",
        "        for i in idxes:\n",
        "            data = self._storage[i]\n",
        "            obs_t, action, reward, obs_tp1, done = data\n",
        "            obses_t.append(np.array(obs_t, copy=False))\n",
        "            actions.append(np.array(action, copy=False))\n",
        "            rewards.append(reward)\n",
        "            obses_tp1.append(np.array(obs_tp1, copy=False))\n",
        "            dones.append(done)\n",
        "        return (\n",
        "            np.array(obses_t),\n",
        "            np.array(actions),\n",
        "            np.array(rewards),\n",
        "            np.array(obses_tp1),\n",
        "            np.array(dones)\n",
        "        )\n",
        "\n",
        "    def sample(self, batch_size):\n",
        "        \"\"\"Sample a batch of experiences.\n",
        "        Parameters\n",
        "        ----------\n",
        "        batch_size: int\n",
        "            How many transitions to sample.\n",
        "        Returns\n",
        "        -------\n",
        "        obs_batch: np.array\n",
        "            batch of observations\n",
        "        act_batch: np.array\n",
        "            batch of actions executed given obs_batch\n",
        "        rew_batch: np.array\n",
        "            rewards received as results of executing act_batch\n",
        "        next_obs_batch: np.array\n",
        "            next set of observations seen after executing act_batch\n",
        "        done_mask: np.array\n",
        "            done_mask[i] = 1 if executing act_batch[i] resulted in\n",
        "            the end of an episode and 0 otherwise.\n",
        "        \"\"\"\n",
        "        idxes = [\n",
        "            random.randint(0, len(self._storage) - 1)\n",
        "            for _ in range(batch_size)\n",
        "        ]\n",
        "        return self._encode_sample(idxes)"
      ],
      "id": "8ohtlDYG7P0S"
    },
    {
      "cell_type": "markdown",
      "metadata": {
        "id": "0-NxD6T27P0T"
      },
      "source": [
        "Implement the function `play_and_record` in which we play the game for a number of steps and add the steps into an experience replay buffer."
      ],
      "id": "0-NxD6T27P0T"
    },
    {
      "cell_type": "code",
      "execution_count": null,
      "metadata": {
        "id": "Tkw5i1YI7P0T"
      },
      "outputs": [],
      "source": [
        "def play_and_record(initial_state, agent, env, exp_replay, n_steps=1):\n",
        "    \"\"\"\n",
        "    Play the game for exactly n steps, record every (s,a,r,s', done) to replay buffer. \n",
        "    Whenever game ends, add record with done=True and reset the game.\n",
        "    It is guaranteed that env has done=False when passed to this function.\n",
        "\n",
        "    PLEASE DO NOT RESET ENV UNLESS IT IS \"DONE\"\n",
        "\n",
        "    :returns: return sum of rewards over time and the state in which the env stays\n",
        "    \"\"\"\n",
        "    s = initial_state\n",
        "    sum_rewards = 0\n",
        "\n",
        "    # Play the game for n_steps as per instructions above\n",
        "    for i in range(n_steps):\n",
        "        # TODO: implement this section\n",
        "        qvalues = agent.get_qvalues(torch.tensor([state], dtype=torch.float32))\n",
        "        action = agent.sample_actions(qvalues)[0]\n",
        "        next_s, reward, done, info = env.step(action)\n",
        "        sum_rewards += reward\n",
        "        exp_replay.add(s, action, reward, next_s, done)\n",
        "        s = next_s\n",
        "        if done:\n",
        "          s = env.reset()\n",
        "          done = False\n",
        "            \n",
        "    return sum_rewards, s"
      ],
      "id": "Tkw5i1YI7P0T"
    },
    {
      "cell_type": "markdown",
      "metadata": {
        "id": "K2ekH2p27P0T"
      },
      "source": [
        "Run some simple sanity checks."
      ],
      "id": "K2ekH2p27P0T"
    },
    {
      "cell_type": "code",
      "execution_count": null,
      "metadata": {
        "id": "nYS9ch6f7P0T",
        "colab": {
          "base_uri": "https://localhost:8080/"
        },
        "outputId": "15dda755-14b0-4dab-a405-8b17004c5408"
      },
      "outputs": [
        {
          "output_type": "stream",
          "name": "stderr",
          "text": [
            "/usr/local/lib/python3.7/dist-packages/ipykernel_launcher.py:51: UserWarning: To copy construct from a tensor, it is recommended to use sourceTensor.clone().detach() or sourceTensor.clone().detach().requires_grad_(True), rather than torch.tensor(sourceTensor).\n"
          ]
        },
        {
          "output_type": "stream",
          "name": "stdout",
          "text": [
            "Well done!\n"
          ]
        }
      ],
      "source": [
        "exp_replay = ReplayBuffer(10)\n",
        "\n",
        "for _ in range(30):\n",
        "    exp_replay.add(env.reset(), env.action_space.sample(),\n",
        "                   1.0, env.reset(), done=False)\n",
        "\n",
        "obs_batch, act_batch, reward_batch, next_obs_batch, is_done_batch = exp_replay.sample(\n",
        "    5)\n",
        "\n",
        "assert len(exp_replay) == 10, \"experience replay size should be 10 because that's what maximum capacity is\"\n",
        "\n",
        "exp_replay = ReplayBuffer(2000)\n",
        "\n",
        "state = env.reset()\n",
        "play_and_record(state, agent, env, exp_replay, n_steps=1000)\n",
        "\n",
        "# if you're using your own experience replay buffer, some of those tests may need correction.\n",
        "# just make sure you know what your code does\n",
        "assert len(exp_replay) == 1000, \"play_and_record should have added exactly 1000 steps, \"\\\n",
        "                                 \"but instead added %i\" % len(exp_replay)\n",
        "is_dones = list(zip(*exp_replay._storage))[-1]\n",
        "\n",
        "for _ in range(100):\n",
        "    obs_batch, act_batch, reward_batch, next_obs_batch, is_done_batch = exp_replay.sample(\n",
        "        10)\n",
        "    assert obs_batch.shape == next_obs_batch.shape == (10,) + state_shape\n",
        "    assert act_batch.shape == (\n",
        "        10,), \"actions batch should have shape (10,) but is instead %s\" % str(act_batch.shape)\n",
        "    assert reward_batch.shape == (\n",
        "        10,), \"rewards batch should have shape (10,) but is instead %s\" % str(reward_batch.shape)\n",
        "    assert is_done_batch.shape == (\n",
        "        10,), \"is_done batch should have shape (10,) but is instead %s\" % str(is_done_batch.shape)\n",
        "    assert [int(i) in (0, 1)\n",
        "            for i in is_dones], \"is_done should be strictly True or False\"\n",
        "    assert [\n",
        "        0 <= a < n_actions for a in act_batch], \"actions should be within [0, n_actions)\"\n",
        "\n",
        "print(\"Well done!\")"
      ],
      "id": "nYS9ch6f7P0T"
    },
    {
      "cell_type": "markdown",
      "metadata": {
        "id": "8hpQ_2UJ7P0U"
      },
      "source": [
        "### Target Networks\n",
        "\n",
        "DQN is basically a policy iteration method in which we both approximate the $Q$ values and improve them as we go. This might cause any errors in estimating to propagate and create unwanted difficulties. To address this issue we use **Target Networks**. Recall the main Q-Learning framework:\n",
        "\n",
        "$$Q(s, a; \\Theta) := Q(s, a; \\Theta) + \\eta \\big(R(s, a) + \\gamma \\times \\max_{a'} \\hat{Q}(s, a'; \\Theta')  - Q(s, a; \\Theta)\\big)$$\n",
        "\n",
        "In this framework we approximate the $\\hat{Q}(s, a'; \\Theta')$ values using a network parameterized by $\\Theta'$ and this is the actual target network. After certain frequencies we load the current network into the target network."
      ],
      "id": "8hpQ_2UJ7P0U"
    },
    {
      "cell_type": "code",
      "execution_count": null,
      "metadata": {
        "id": "tuogiyyG7P0U",
        "colab": {
          "base_uri": "https://localhost:8080/"
        },
        "outputId": "30371c0d-ff3d-4a68-d1ff-6ada6546e132"
      },
      "outputs": [
        {
          "output_type": "execute_result",
          "data": {
            "text/plain": [
              "<All keys matched successfully>"
            ]
          },
          "metadata": {},
          "execution_count": 25
        }
      ],
      "source": [
        "target_network = DQNAgent(env, epsilon=0.5).to(device)\n",
        "# This is how you can load weights from agent into target network\n",
        "target_network.load_state_dict(agent.state_dict())"
      ],
      "id": "tuogiyyG7P0U"
    },
    {
      "cell_type": "markdown",
      "metadata": {
        "id": "laLQ9W5x7P0V"
      },
      "source": [
        "## Q-Learning\n",
        "Here we will finally implement the Q-Learning procedure. Here's the process:\n",
        "\n",
        "Compute Q-learning TD error:\n",
        "\n",
        "$$ L = { 1 \\over N} \\sum_i [ Q_{\\theta}(s,a) - Q_{reference}(s,a) ] ^2 $$\n",
        "\n",
        "With Q-reference defined as\n",
        "\n",
        "$$ Q_{reference}(s,a) = r(s,a) + \\gamma \\cdot max_{a'} Q_{target}(s', a') $$\n",
        "\n",
        "Where\n",
        "* $Q_{target}(s',a')$ denotes q-value of next state and next action predicted by __target_network__\n",
        "* $s, a, r, s'$ are current state, action, reward and next state respectively\n",
        "* $\\gamma$ is a discount factor defined two cells above.\n",
        "\n",
        "\n",
        "__Note 1:__ there's an example input below. Feel free to experiment with it before you write the function.\n",
        "\n",
        "__Note 2:__ compute_td_loss is a source of 99% of bugs in this homework. If reward doesn't improve, it often helps to go through it line by line [with a rubber duck](https://rubberduckdebugging.com/)."
      ],
      "id": "laLQ9W5x7P0V"
    },
    {
      "cell_type": "code",
      "execution_count": null,
      "metadata": {
        "id": "CGgo9IoP7P0V"
      },
      "outputs": [],
      "source": [
        "def compute_td_loss(states, actions, rewards, next_states, is_done,\n",
        "                    agent, target_network,\n",
        "                    gamma=0.99,\n",
        "                    check_shapes=False,\n",
        "                    device=device):\n",
        "    \"\"\" Compute td loss using torch operations only. Use the formulae above. \"\"\"\n",
        "    states = torch.tensor(states, device=device, dtype=torch.float)    # shape: [batch_size, *state_shape]\n",
        "\n",
        "    # for some torch reason should not make actions a tensor\n",
        "    actions = torch.tensor(actions, device=device, dtype=torch.long)    # shape: [batch_size]\n",
        "    rewards = torch.tensor(rewards, device=device, dtype=torch.float)  # shape: [batch_size]\n",
        "    # shape: [batch_size, *state_shape]\n",
        "    next_states = torch.tensor(next_states, device=device, dtype=torch.float)\n",
        "    is_done = torch.tensor(is_done.astype('float32'), device=device, dtype=torch.float)  # shape: [batch_size]\n",
        "    #is_not_done = 1 - is_done\n",
        "    is_done = is_done.to(torch.bool)\n",
        "    #is_not_done = is_not_done.to(torch.bool)\n",
        "\n",
        "    # get q-values for all actions in current states\n",
        "    predicted_qvalues = agent(states.to(device))\n",
        "\n",
        "    # compute q-values for all actions in next states\n",
        "    predicted_next_qvalues = target_network(next_states)\n",
        "    \n",
        "    # select q-values for chosen actions\n",
        "    predicted_qvalues_for_actions = predicted_qvalues[range(len(actions)), actions]\n",
        "\n",
        "    # compute V*(next_states) using predicted next q-values\n",
        "    # TODO\n",
        "    next_state_values = predicted_next_qvalues.max(axis=-1)[0]\n",
        "\n",
        "    assert next_state_values.dim(\n",
        "    ) == 1 and next_state_values.shape[0] == states.shape[0], \"must predict one value per state\"\n",
        "\n",
        "    # compute \"target q-values\" for loss - it's what's inside square parentheses in the above formula.\n",
        "    # at the last state use the simplified formula: Q(s,a) = r(s,a) since s' doesn't exist\n",
        "    # you can multiply next state values by is_not_done to achieve this.\n",
        "    # TODO\n",
        "    target_qvalues_for_actions = rewards + gamma * next_state_values\n",
        "    target_qvalues_for_actions = torch.where(is_done, rewards, target_qvalues_for_actions)\n",
        "\n",
        "    # mean squared error loss to minimize\n",
        "    loss = torch.mean((predicted_qvalues_for_actions - target_qvalues_for_actions.detach()) ** 2)\n",
        "\n",
        "    if check_shapes:\n",
        "        assert predicted_next_qvalues.data.dim() == 2, \"make sure you predicted q-values for all actions in next state\"\n",
        "        assert next_state_values.data.dim() == 1, \"make sure you computed V(s') as maximum over just the actions axis and not all axes\"\n",
        "        assert target_qvalues_for_actions.data.dim() == 1, \"there's something wrong with target q-values, they must be a vector\"\n",
        "\n",
        "    return loss"
      ],
      "id": "CGgo9IoP7P0V"
    },
    {
      "cell_type": "markdown",
      "metadata": {
        "id": "Xc-GUlm37P0V"
      },
      "source": [
        "Sanity checks!"
      ],
      "id": "Xc-GUlm37P0V"
    },
    {
      "cell_type": "code",
      "execution_count": null,
      "metadata": {
        "id": "Y-E6LAR27P0V"
      },
      "outputs": [],
      "source": [
        "obs_batch, act_batch, reward_batch, next_obs_batch, is_done_batch = exp_replay.sample(10)\n",
        "\n",
        "loss = compute_td_loss(obs_batch, act_batch, reward_batch, next_obs_batch, is_done_batch,\n",
        "                       agent, target_network,\n",
        "                       gamma=0.99, check_shapes=True)\n",
        "loss.backward()\n",
        "\n",
        "assert loss.requires_grad and tuple(loss.data.size()) == (\n",
        "    ), \"you must return scalar loss - mean over batch\"\n",
        "assert np.any(next(agent.parameters()).grad.data.cpu().numpy() !=\n",
        "              0), \"loss must be differentiable w.r.t. network weights\"\n",
        "assert np.all(next(target_network.parameters()).grad is None), \"target network should not have grads\""
      ],
      "id": "Y-E6LAR27P0V"
    },
    {
      "cell_type": "markdown",
      "metadata": {
        "id": "Mci1YsA27P0W"
      },
      "source": [
        "## Main Learning Loop"
      ],
      "id": "Mci1YsA27P0W"
    },
    {
      "cell_type": "code",
      "execution_count": null,
      "metadata": {
        "id": "1NKQ3ejD7P0W",
        "colab": {
          "base_uri": "https://localhost:8080/"
        },
        "outputId": "9080ff98-0f52-445e-dfe5-5f51b391454b"
      },
      "outputs": [
        {
          "output_type": "execute_result",
          "data": {
            "text/plain": [
              "<torch._C.Generator at 0x7f8b5843a3b0>"
            ]
          },
          "metadata": {},
          "execution_count": 34
        }
      ],
      "source": [
        "seed = 2022\n",
        "random.seed(seed)\n",
        "np.random.seed(seed)\n",
        "torch.manual_seed(seed)"
      ],
      "id": "1NKQ3ejD7P0W"
    },
    {
      "cell_type": "code",
      "execution_count": null,
      "metadata": {
        "id": "B2OK773Z7P0W",
        "colab": {
          "base_uri": "https://localhost:8080/"
        },
        "outputId": "bfccef9b-269d-49c6-f475-d13bf4893237"
      },
      "outputs": [
        {
          "output_type": "execute_result",
          "data": {
            "text/plain": [
              "<All keys matched successfully>"
            ]
          },
          "metadata": {},
          "execution_count": 35
        }
      ],
      "source": [
        "env = make_env(seed)\n",
        "state_shape = env.observation_space.shape\n",
        "n_actions = env.action_space.n\n",
        "state = env.reset()\n",
        "\n",
        "agent = DQNAgent(env, epsilon=1).to(device)\n",
        "target_network = DQNAgent(env).to(device)\n",
        "target_network.load_state_dict(agent.state_dict())"
      ],
      "id": "B2OK773Z7P0W"
    },
    {
      "cell_type": "markdown",
      "metadata": {
        "id": "9O3TI39y7P0W"
      },
      "source": [
        "The following are the hyperparameters for the learning process. Feel free to change them as you will; although some default values are assigned to them currently.\n",
        "\n",
        "**IMPORTANT NOTE!** Since the training takes time, you may (and should!) save your model with some frequency."
      ],
      "id": "9O3TI39y7P0W"
    },
    {
      "cell_type": "code",
      "execution_count": null,
      "metadata": {
        "id": "nXNSPmbr7P0W"
      },
      "outputs": [],
      "source": [
        "exp_replay = ReplayBuffer(15000)\n",
        "timesteps_per_epoch = 1\n",
        "batch_size = 64\n",
        "total_steps = 3 * 10**5\n",
        "decay_steps = 10**5\n",
        "\n",
        "opt = torch.optim.Adam(agent.parameters(), lr=1e-5)\n",
        "\n",
        "init_epsilon = 1\n",
        "final_epsilon = 0.1\n",
        "\n",
        "loss_freq = 50\n",
        "refresh_target_network_freq = 5000\n",
        "eval_freq = 5000\n",
        "\n",
        "max_grad_norm = 50\n",
        "\n",
        "n_lives = 5\n",
        "\n",
        "save_freq = 50000"
      ],
      "id": "nXNSPmbr7P0W"
    },
    {
      "cell_type": "code",
      "execution_count": null,
      "metadata": {
        "id": "olIR5rkv7P0W"
      },
      "outputs": [],
      "source": [
        "# DO NOT RERUN THIS TO MAINTAIN THE HISTORY!\n",
        "\n",
        "mean_rw_history = []\n",
        "td_loss_history = []\n",
        "grad_norm_history = []\n",
        "initial_state_v_history = []\n",
        "step = 0"
      ],
      "id": "olIR5rkv7P0W"
    },
    {
      "cell_type": "code",
      "execution_count": null,
      "metadata": {
        "id": "UYiOGwC77P0X",
        "colab": {
          "base_uri": "https://localhost:8080/",
          "height": 588
        },
        "outputId": "fe8f45ba-7b47-4655-cc24-e7acba4ab1fe"
      },
      "outputs": [
        {
          "output_type": "stream",
          "name": "stdout",
          "text": [
            "buffer size = 15000, epsilon = 0.10000\n"
          ]
        },
        {
          "output_type": "display_data",
          "data": {
            "image/png": "[encoded data removed]",
            "text/plain": [
              "<Figure size 1152x648 with 4 Axes>"
            ]
          },
          "metadata": {
            "needs_background": "light"
          }
        },
        {
          "output_type": "stream",
          "name": "stderr",
          "text": [
            "100%|██████████| 300001/300001 [4:42:21<00:00, 17.71it/s]\n"
          ]
        }
      ],
      "source": [
        "import src.utils as utils\n",
        "from tqdm import trange\n",
        "\n",
        "state = env.reset()\n",
        "for step in trange(step, total_steps + 1):\n",
        "    if not utils.is_enough_ram():\n",
        "        print('less that 100 Mb RAM available, freezing')\n",
        "        print('make sure everythin is ok and make KeyboardInterrupt to continue')\n",
        "        try:\n",
        "            while True:\n",
        "                pass\n",
        "        except KeyboardInterrupt:\n",
        "            pass\n",
        "\n",
        "    agent.epsilon = utils.linear_decay(init_epsilon, final_epsilon, step, decay_steps)\n",
        "\n",
        "    # play\n",
        "    _, state = play_and_record(state, agent, env, exp_replay, timesteps_per_epoch)\n",
        "\n",
        "    # train\n",
        "    # TODO: sample batch_size of data from experience replay>\n",
        "    obs_batch, act_batch, reward_batch, next_obs_batch, is_done_batch = exp_replay.sample(batch_size)\n",
        "    loss = compute_td_loss(obs_batch, act_batch, reward_batch, next_obs_batch, is_done_batch,\n",
        "                       agent, target_network,\n",
        "                       gamma=0.99, check_shapes=True)\n",
        "\n",
        "    loss.backward()\n",
        "    grad_norm = nn.utils.clip_grad_norm_(agent.parameters(), max_grad_norm)\n",
        "    opt.step()\n",
        "    opt.zero_grad()\n",
        "    \n",
        "    if (step + 1) % save_freq == 0:\n",
        "        torch.save(agent, 'saved-models/temporary_saved_agent.pth')\n",
        "    \n",
        "    if step % loss_freq == 0:\n",
        "        td_loss_history.append(loss.data.cpu().item())\n",
        "        grad_norm_history.append(grad_norm)\n",
        "\n",
        "    if step % refresh_target_network_freq == 0:\n",
        "        # Load agent weights into target_network\n",
        "        # TODO\n",
        "        target_network.load_state_dict(agent.state_dict())\n",
        "\n",
        "    if step % eval_freq == 0:\n",
        "        mean_rw_history.append(evaluate(make_env(clip_rewards=True, seed=step), agent, n_games=3 * n_lives, greedy=True))\n",
        "        initial_state_q_values = agent.get_qvalues([make_env(seed=step).reset()])\n",
        "        initial_state_v_history.append(np.max(initial_state_q_values))\n",
        "\n",
        "        clear_output(True)\n",
        "        print(\"buffer size = %i, epsilon = %.5f\" %(len(exp_replay), agent.epsilon))\n",
        "\n",
        "        plt.figure(figsize=[16, 9])\n",
        "\n",
        "        plt.subplot(2, 2, 1)\n",
        "        plt.title(\"Mean reward per life\")\n",
        "        plt.plot(mean_rw_history)\n",
        "        plt.grid()\n",
        "\n",
        "        assert not np.isnan(td_loss_history[-1])\n",
        "        plt.subplot(2, 2, 2)\n",
        "        plt.title(\"TD loss history (smoothened)\")\n",
        "        plt.plot(utils.smoothen(td_loss_history))\n",
        "        plt.grid()\n",
        "\n",
        "        plt.subplot(2, 2, 3)\n",
        "        plt.title(\"Initial state V\")\n",
        "        plt.plot(initial_state_v_history)\n",
        "        plt.grid()\n",
        "\n",
        "        plt.subplot(2, 2, 4)\n",
        "        plt.title(\"Grad norm history (smoothened)\")\n",
        "        plt.plot(utils.smoothen(grad_norm_history))\n",
        "        plt.grid()\n",
        "\n",
        "        plt.show()"
      ],
      "id": "UYiOGwC77P0X"
    },
    {
      "cell_type": "markdown",
      "metadata": {
        "id": "Pku7pUjP7P0X"
      },
      "source": [
        "## How to interpret plots:\n",
        "\n",
        "This aint no supervised learning so don't expect anything to improve monotonously. \n",
        "* **TD loss** is the MSE between agent's current Q-values and target Q-values. It may slowly increase or decrease, it's ok. The \"not ok\" behavior includes going NaN or stayng at exactly zero before agent has perfect performance.\n",
        "* **grad norm** just shows the intensivity of training. Not ok is growing to values of about 100 (or maybe even 50) though it depends on network architecture.\n",
        "* **mean reward** is the expected sum of r(s,a) agent gets over the full game session. It will oscillate, but on average it should get higher over time (after a few thousand iterations...). \n",
        " * In basic q-learning implementation it takes about 40k steps to \"warm up\" agent before it starts to get better.\n",
        "* **Initial state V** is the expected discounted reward for episode in the oppinion of the agent. It should behave more smoothly than **mean reward**. It should get higher over time but sometimes can experience drawdowns because of the agaent's overestimates.\n",
        "* **buffer size** - this one is simple. It should go up and cap at max size.\n",
        "* **epsilon** - agent's willingness to explore. If you see that agent's already at 0.01 epsilon before it's average reward is above 0 - it means you need to increase epsilon. Set it back to some 0.2 - 0.5 and decrease the pace at which it goes down.\n",
        "* Smoothing of plots is done with a gaussian kernel\n",
        "\n",
        "At first your agent will lose quickly. Then it will learn to suck less and at least hit the ball a few times before it loses. Finally it will learn to actually score points.\n",
        "\n",
        "**Training will take time.** A lot of it actually. Probably you will not see any improvment during first **150k** time steps (note that by default in this notebook agent is evaluated every 5000 time steps)."
      ],
      "id": "Pku7pUjP7P0X"
    },
    {
      "cell_type": "markdown",
      "metadata": {
        "id": "Br-wyY2S7P0X"
      },
      "source": [
        "## See how the model works and Assignment Submission\n",
        "\n",
        "To submit the assignment, you can submit a zip file containing the filled up files and notebook. You should make sure to have the following items checked:\n",
        "* Each of the blocks provided should run without error.\n",
        "* Run the training and save your model in `saved-models/<STD_ID>_DQN_<ENV_NAME>.pth` format and upload it alongside the assignment.\n",
        "* The history of your plots **from the first epoch until the end**. \n",
        "* You should also save your output as a gif `<STD_ID>_DQN_<ENV_NAME>.gif` and upload it alongside your files. This gif file contains the performance of your model during a complete round of the chosen game."
      ],
      "id": "Br-wyY2S7P0X"
    },
    {
      "cell_type": "code",
      "execution_count": null,
      "metadata": {
        "id": "dId3kCdSCE_9",
        "colab": {
          "base_uri": "https://localhost:8080/"
        },
        "outputId": "b80d42ac-dc8b-44b6-846d-f327ecd75422"
      },
      "outputs": [
        {
          "output_type": "stream",
          "name": "stderr",
          "text": [
            "/usr/local/lib/python3.7/dist-packages/ipykernel_launcher.py:51: UserWarning: To copy construct from a tensor, it is recommended to use sourceTensor.clone().detach() or sourceTensor.clone().detach().requires_grad_(True), rather than torch.tensor(sourceTensor).\n"
          ]
        }
      ],
      "source": [
        "import array2gif\n",
        "# Note that you can change the arguments and parameteres of these following functions as you want,\n",
        "# but your functions must work in the described procedure.\n",
        "\n",
        "def load_model(PATH):\n",
        "    # This function takes the path of saved model as the input, and outputs the loaded model\n",
        "    agent = torch.load(PATH)\n",
        "    return agent\n",
        "\n",
        "def generate_gif(model, PATH):\n",
        "    # This funcition evaluate a model during a complete round of the chosen game,\n",
        "    # and saves the gif containing the whole steps of the game in <PATH>\n",
        "    total_reward = 0\n",
        "    game = []\n",
        "    state = env.reset()\n",
        "    done = False\n",
        "    while not done:\n",
        "        qvalues = agent.get_qvalues(torch.tensor([state], dtype=torch.float32))\n",
        "        action = np.argmax(qvalues)\n",
        "        next_state, reward, done, info = env.step(action)\n",
        "        total_reward += reward\n",
        "        state = next_state\n",
        "        screen = env.render(mode='rgb_array')\n",
        "        game.append(screen)\n",
        "    array2gif.write_gif(game, PATH, fps=5)\n",
        "\n",
        "agent = load_model('saved-models/temporary_saved_agent.pth')\n",
        "generate_gif(agent, 'final_performance.gif')"
      ],
      "id": "dId3kCdSCE_9"
    },
    {
      "cell_type": "markdown",
      "metadata": {
        "id": "4KrTt9_2CH30"
      },
      "source": [
        "You can use the following codes to evaluate. By the way, it is perfectly fine if you want to use some other codes to evaluate."
      ],
      "id": "4KrTt9_2CH30"
    },
    {
      "cell_type": "code",
      "execution_count": null,
      "metadata": {
        "id": "-0kPPQwB7P0Y",
        "colab": {
          "base_uri": "https://localhost:8080/"
        },
        "outputId": "3aeea3de-7295-464c-ef1c-5aef6a41ff20"
      },
      "outputs": [
        {
          "output_type": "stream",
          "name": "stderr",
          "text": [
            "100%|██████████| 5/5 [01:19<00:00, 15.80s/it]\n"
          ]
        }
      ],
      "source": [
        "import time\n",
        "from PIL import Image, ImageDraw\n",
        "from tqdm import trange\n",
        "\n",
        "def run_model(seed, agent, n_games=10, t_max=10000):\n",
        "    \"\"\" Plays n_games full games. If greedy, picks actions as argmax(qvalues). Returns mean reward. \"\"\"\n",
        "    env = gym.make(ENV_NAME)\n",
        "    env.seed(seed)\n",
        "    env = PreprocessAtariObs(env)\n",
        "    env = FrameBuffer(env)\n",
        "    state_shape = env.observation_space.shape\n",
        "    n_actions = env.action_space.n\n",
        "    rewards = []\n",
        "    actions_history = []\n",
        "    final_video = []\n",
        "    for _ in trange(n_games):\n",
        "        s = env.reset()\n",
        "        reward = 0\n",
        "        current_session_actions = []\n",
        "        for t in range(t_max):\n",
        "            qvalues = agent.get_qvalues([s])\n",
        "            action = np.argmax(qvalues)\n",
        "            # current_session_actions.append(action)\n",
        "            ns, r, done, _ = env.step(action)\n",
        "            reward += r\n",
        "            screen = env.render(mode='rgb_array')\n",
        "            final_video.append(screen)\n",
        "            s = ns\n",
        "            if done:\n",
        "                break\n",
        "        # rewards.append(reward)\n",
        "        # actions_history.append(current_session_actions)\n",
        "    # t = np.array(rewards)\n",
        "    # t_max = np.sort(t)[-5]\n",
        "    # ids = rewards >= t_max\n",
        "    # final_video = []\n",
        "    # env = gym.make(ENV_NAME)\n",
        "    # env.seed(seed)\n",
        "    # for i in range(n_games):\n",
        "    #     s = env.reset()\n",
        "    #     for j, a in enumerate(actions_history[i]):\n",
        "    #         actions_history.append(action)\n",
        "    #         s, r, done, _ = env.step(action)\n",
        "    #         if ids[i] and (j + 1) % 2 == 0:\n",
        "    #             screen = env.render(mode='rgb_array')\n",
        "    #             final_video.append(screen)\n",
        "    #         if done:\n",
        "    #             break\n",
        "    return final_video\n",
        "\n",
        "image_seq = run_model(2022, agent, n_games=5)\n"
      ],
      "id": "-0kPPQwB7P0Y"
    },
    {
      "cell_type": "code",
      "execution_count": null,
      "metadata": {
        "id": "wi1XxlC67P0Y"
      },
      "outputs": [],
      "source": [
        "from array2gif import write_gif\n",
        "# This might take a while\n",
        "write_gif(image_seq, 'rgbbgr.gif', fps=60)"
      ],
      "id": "wi1XxlC67P0Y"
    }
  ],
  "metadata": {
    "colab": {
      "provenance": [],
      "include_colab_link": true
    },
    "kernelspec": {
      "display_name": "Python 3",
      "language": "python",
      "name": "python3"
    },
    "language_info": {
      "codemirror_mode": {
        "name": "ipython",
        "version": 3
      },
      "file_extension": ".py",
      "mimetype": "text/x-python",
      "name": "python",
      "nbconvert_exporter": "python",
      "pygments_lexer": "ipython3",
      "version": "3.8.3"
    },
    "accelerator": "GPU"
  },
  "nbformat": 4,
  "nbformat_minor": 5
}